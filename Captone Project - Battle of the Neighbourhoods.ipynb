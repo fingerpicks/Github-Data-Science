{
 "cells": [
  {
   "cell_type": "markdown",
   "metadata": {},
   "source": [
    "# Introduction"
   ]
  },
  {
   "cell_type": "markdown",
   "metadata": {},
   "source": [
    "## Scenario"
   ]
  },
  {
   "cell_type": "markdown",
   "metadata": {},
   "source": [
    "Hello. I am an aspiring Data Analyst living in Singapore. I am currently working for a British MNC in Ang Mo Kio (North Eastern part of Singapore). \n",
    "\n",
    "I have been offered a wonderful opportunity to work as a Data Analyst in a prominent IT firm located at Telok Blangah (Southern ridges in Singapore). I am very excited and will like to use this opportunity to practice my learnings in Coursera. \n",
    "\n",
    "I will like to make a comparision of food choices between these 2 locations using the methods taught to me in this course. \n",
    "\n",
    "\n",
    "\n",
    "Here are my set criteria:\n",
    "\n",
    "1) Meals must not exceed SGD 5.00\n",
    "\n",
    "2) Meals location must be within 15 mins walking duration\n",
    "\n",
    "3) Preferred locations include Hawker centres, Coffee Shops, Canteens. "
   ]
  },
  {
   "cell_type": "markdown",
   "metadata": {},
   "source": [
    "## Problem Statement"
   ]
  },
  {
   "cell_type": "markdown",
   "metadata": {},
   "source": [
    "To find an economical meal option located in near vincity to my work location in Telok Blangah.\n",
    "\n",
    "The data required to resolve this challenge will be described in the following section."
   ]
  },
  {
   "cell_type": "markdown",
   "metadata": {},
   "source": [
    "# Data Section"
   ]
  },
  {
   "cell_type": "markdown",
   "metadata": {},
   "source": [
    "## Description of the Data"
   ]
  },
  {
   "cell_type": "markdown",
   "metadata": {},
   "source": [
    "1) List of Sub-neighborhoods of Telok Blangah with their geodata (latitude and longitude)\n",
    "\n",
    "2) List of Bus Stops in Telok Blangah with their address location.\n",
    "\n",
    "3) List of Hawker Centre and Coffee shops in Telok Blangah with their addresses and average price."
   ]
  },
  {
   "cell_type": "markdown",
   "metadata": {},
   "source": [
    "## How will the data be used to solve the problem"
   ]
  },
  {
   "cell_type": "markdown",
   "metadata": {},
   "source": [
    "Use Foursquare and geopy data to map top 10 venues for all Telok blangah Sub neighborhoods and clustered in groups \n",
    "\n",
    "Use foursquare and geopy data to map the location of Bus Stops, separately and on top of the above clustered map in order to be able to identify the venues and ammenities near each metro station, or explore each subway location separately\n",
    "\n",
    "Use Foursquare and geopy data to map the location of Hawker Centres / Coffee Shops, in some form, linked to the Bus Stops.\n",
    "\n",
    "Addresses from locations will be converted to geodata(lat, long) using Geopy-distance and Nominatim.\n",
    "\n",
    "\n",
    "\n",
    "\n",
    "\n",
    "\n",
    "\n",
    "\n",
    "The procesing of these DATA will allow to answer the key questions to make a decision:\n",
    "\n",
    "- what is the cost of food around a 15 min travelling radius from new workplace?\n",
    "\n",
    "- what is the area of Telok Blangah with best food choices that meets criteria established?\n",
    "\n",
    "- What is the distance from work place and the possible meal locations?\n",
    "\n",
    "- What are the venues of the two best meal places to visit? How the prices compare?\n",
    "\n",
    "- Are there tradeoffs between meal price and location?"
   ]
  },
  {
   "cell_type": "code",
   "execution_count": null,
   "metadata": {},
   "outputs": [],
   "source": []
  }
 ],
 "metadata": {
  "kernelspec": {
   "display_name": "Python 3",
   "language": "python",
   "name": "python3"
  },
  "language_info": {
   "codemirror_mode": {
    "name": "ipython",
    "version": 3
   },
   "file_extension": ".py",
   "mimetype": "text/x-python",
   "name": "python",
   "nbconvert_exporter": "python",
   "pygments_lexer": "ipython3",
   "version": "3.7.3"
  }
 },
 "nbformat": 4,
 "nbformat_minor": 2
}
